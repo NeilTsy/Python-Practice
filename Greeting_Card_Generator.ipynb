{
 "cells": [
  {
   "cell_type": "code",
   "execution_count": 35,
   "id": "69998f89-590a-4d78-9ff0-03d24c68eba0",
   "metadata": {},
   "outputs": [],
   "source": [
    "import random\n",
    "import svgwrite\n",
    "import webbrowser\n",
    "from svgwrite import cm, mm"
   ]
  },
  {
   "cell_type": "code",
   "execution_count": 36,
   "id": "6905ce3d-65cc-40b4-9ac5-d3ffbe138e63",
   "metadata": {},
   "outputs": [],
   "source": [
    "Filename: str = \"GCArt.html\"\n",
    "CNTMIN : int = 200 # Min number of shapes can be generated\n",
    "CNTMAX : int = 2000 # Max number of shapes can be generated\n",
    "CMX : int = 255 # Max number of RGB color range\n",
    "RMIN : int = 5 # Min radius of a cycle\n",
    "RMAX : int = 150 # Max radius of a cycle\n",
    "shape_types : list = ['circle', 'rect', 'triangle'] # Three different shapes can be generated"
   ]
  },
  {
   "cell_type": "code",
   "execution_count": 37,
   "id": "98ec27a1-8941-4132-b2b2-4f6ab26ab60d",
   "metadata": {},
   "outputs": [],
   "source": [
    "# Create an SVG drawing, size's range is [1000,3000]mm\n",
    "CW : int = 1000*random.randint(1,2); CH : int = 1000*random.randint(1,2)\n",
    "dwg = svgwrite.Drawing(Filename, profile='tiny', size=(CW*mm, CH*mm))\n",
    "num_shapes = random.randint(CNTMIN,CNTMAX) # Number of shapes will be generated later"
   ]
  },
  {
   "cell_type": "code",
   "execution_count": 38,
   "id": "2a833606-0d74-4b9f-98f5-989e586b7478",
   "metadata": {},
   "outputs": [],
   "source": [
    "# Random triangle's three vertexs\n",
    "def generate_random_color() -> tuple:\n",
    "    return f'rgb({random.randint(0, CMX)}, {random.randint(0, CMX)}, {random.randint(0, CMX)})'\n",
    "\n",
    "# Three shapes generate functions\n",
    "def generate_random_triangle() -> None:\n",
    "    points = [\n",
    "            (random.randint(0, CW), random.randint(0, CH)),\n",
    "            (random.randint(0, CH), random.randint(0, CH)),\n",
    "            (random.randint(0, CH), random.randint(0, CH))\n",
    "        ]\n",
    "    color : tuple = generate_random_color()\n",
    "    dwg.add(dwg.polygon(points=points, fill=color))\n",
    "\n",
    "def generate_random_circle() -> None:\n",
    "    cx = random.randint(0, CW)\n",
    "    cy = random.randint(0, CH)\n",
    "    r = random.randint(RMIN, RMAX)\n",
    "    color = generate_random_color()\n",
    "    dwg.add(dwg.circle(center=(cx*mm, cy*mm), r=r*mm, fill=color))\n",
    "\n",
    "def generate_random_rectangle() -> None:\n",
    "    x = random.randint(0, CH)\n",
    "    y = random.randint(0, CH)\n",
    "    width = random.randint(25, 250)\n",
    "    height = random.randint(25, 250)\n",
    "    color = generate_random_color()\n",
    "    dwg.add(dwg.rect(insert=(x*mm, y*mm), size=(width*mm, height*mm), fill=color))\n",
    "\n",
    "# Build the card\n",
    "for i in range(num_shapes):\n",
    "    shape_type = shape_types[random.randint(0,2)]\n",
    "    if (shape_type == 'circle'):\n",
    "        generate_random_circle()\n",
    "    elif shape_type == 'rect':\n",
    "        generate_random_rectangle()\n",
    "    else:\n",
    "        generate_random_triangle()"
   ]
  },
  {
   "cell_type": "code",
   "execution_count": 39,
   "id": "800174c3-78fc-49d5-ac68-b9fa771ed4ff",
   "metadata": {},
   "outputs": [],
   "source": [
    "dwg.save() # Save the html file"
   ]
  },
  {
   "cell_type": "code",
   "execution_count": 40,
   "id": "e7c2b94a-db7b-419d-9348-861d956b10fb",
   "metadata": {},
   "outputs": [
    {
     "data": {
      "text/plain": [
       "True"
      ]
     },
     "execution_count": 40,
     "metadata": {},
     "output_type": "execute_result"
    }
   ],
   "source": [
    "# Open the HTML file in a web browser\n",
    "webbrowser.open(Filename)"
   ]
  },
  {
   "cell_type": "code",
   "execution_count": null,
   "id": "07e1efec-7cea-4b2c-9096-7f9a520b00d1",
   "metadata": {},
   "outputs": [],
   "source": []
  }
 ],
 "metadata": {
  "kernelspec": {
   "display_name": "Python 3 (ipykernel)",
   "language": "python",
   "name": "python3"
  },
  "language_info": {
   "codemirror_mode": {
    "name": "ipython",
    "version": 3
   },
   "file_extension": ".py",
   "mimetype": "text/x-python",
   "name": "python",
   "nbconvert_exporter": "python",
   "pygments_lexer": "ipython3",
   "version": "3.9.13"
  }
 },
 "nbformat": 4,
 "nbformat_minor": 5
}
